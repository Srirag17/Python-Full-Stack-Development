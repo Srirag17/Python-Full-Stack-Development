{
  "nbformat": 4,
  "nbformat_minor": 0,
  "metadata": {
    "colab": {
      "provenance": [],
      "authorship_tag": "ABX9TyMph+/70hLCkOSH/HBfoLc5",
      "include_colab_link": true
    },
    "kernelspec": {
      "name": "python3",
      "display_name": "Python 3"
    },
    "language_info": {
      "name": "python"
    }
  },
  "cells": [
    {
      "cell_type": "markdown",
      "metadata": {
        "id": "view-in-github",
        "colab_type": "text"
      },
      "source": [
        "<a href=\"https://colab.research.google.com/github/Srirag17/Python-Full-Stack-Development/blob/main/Untitled1.ipynb\" target=\"_parent\"><img src=\"https://colab.research.google.com/assets/colab-badge.svg\" alt=\"Open In Colab\"/></a>"
      ]
    },
    {
      "cell_type": "code",
      "source": [
        " \n",
        "a = 9\n",
        "b = 4\n",
        "add = a + b\n",
        "sub = a - b\n",
        "mul = a * b\n",
        "div1 = a/b\n",
        "print(\"ADDITION\", add)\n",
        "print(\"SUBTRACTION\", sub)\n",
        "print(\"MULTIPLICATION\" ,mul)\n",
        "print (\"DIVISION\", div1)\n",
        "\f"
      ],
      "metadata": {
        "colab": {
          "base_uri": "https://localhost:8080/"
        },
        "id": "BUWcodfW2yEm",
        "outputId": "eb93a0e1-63d0-4684-c3b3-026022702cef"
      },
      "execution_count": 2,
      "outputs": [
        {
          "output_type": "stream",
          "name": "stdout",
          "text": [
            "ADDITION 13\n",
            "SUBTRACTION 5\n",
            "MULTIPLICATION 36\n",
            "DIVISION 2.25\n"
          ]
        }
      ]
    }
  ]
}